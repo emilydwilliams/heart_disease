{
 "cells": [
  {
   "cell_type": "markdown",
   "metadata": {},
   "source": [
    "# Heart Disease Project - Machine Learning Model\n",
    "\n",
    "In this notebook, I will create a Machine Learning model to predict whether or not a patient has heart disease, given a set of information about them. This project uses the following Heart Disease dataset from Kaggle: \n",
    "https://www.kaggle.com/ronitf/heart-disease-uci."
   ]
  },
  {
   "cell_type": "markdown",
   "metadata": {},
   "source": [
    "# Step 1 - Import libraries & load data"
   ]
  },
  {
   "cell_type": "code",
   "execution_count": 1,
   "metadata": {},
   "outputs": [],
   "source": [
    "import pandas as pd\n",
    "import matplotlib.pyplot as plt\n",
    "import seaborn as sns\n",
    "import warnings\n",
    "warnings.filterwarnings('ignore')\n",
    "\n",
    "from sklearn.model_selection import train_test_split\n",
    "from sklearn.ensemble import RandomForestClassifier\n",
    "from sklearn.metrics import precision_score, recall_score, accuracy_score, f1_score\n",
    "\n",
    "sns.set_style('darkgrid')\n",
    "sns.set(font_scale=1.25)\n",
    "sns.set_palette('Accent')\n",
    "\n",
    "%matplotlib inline"
   ]
  },
  {
   "cell_type": "code",
   "execution_count": 2,
   "metadata": {},
   "outputs": [],
   "source": [
    "df = pd.read_csv('heart_clean.csv')"
   ]
  },
  {
   "cell_type": "code",
   "execution_count": 3,
   "metadata": {},
   "outputs": [
    {
     "data": {
      "text/plain": [
       "array(['Unnamed: 0', 'age', 'sex', 'cp', 'trestbps', 'chol', 'fbs',\n",
       "       'restecg', 'thalach', 'exang', 'oldpeak', 'slope', 'ca', 'thal',\n",
       "       'target'], dtype=object)"
      ]
     },
     "execution_count": 3,
     "metadata": {},
     "output_type": "execute_result"
    }
   ],
   "source": [
    "df.columns.values"
   ]
  },
  {
   "cell_type": "markdown",
   "metadata": {},
   "source": [
    "# Step 2 - Define Features & Label\n",
    "In defining the features I'll use to predict whether or not a patient has heart disease, I will use the following features, based on the findings from my EDA:\n",
    "\n",
    "* Age (-0.22 correlation with label)\n",
    "* Sex (-0.28 correlation with label)\n",
    "* CP (0.43 correlation with label)\n",
    "* Thalach (0.42 correlation with label)\n",
    "* Exang (-0.44 correlation with label)\n",
    "* Oldpeak (-0.43 correlation with label)\n",
    "* Slope (0.34 correlation with label)\n",
    "* CA (-0.41 correlation with label)\n",
    "* Thal (-0.34 correlation with label)\n",
    "\n",
    "I decided to only use features that had a positive or negative correlation of 0.2 or higher with the label."
   ]
  },
  {
   "cell_type": "code",
   "execution_count": 4,
   "metadata": {},
   "outputs": [],
   "source": [
    "features = df[['age','sex','cp','thalach','exang','oldpeak','slope','ca','thal']]"
   ]
  },
  {
   "cell_type": "code",
   "execution_count": 5,
   "metadata": {},
   "outputs": [],
   "source": [
    "label = df[['target']]"
   ]
  },
  {
   "cell_type": "markdown",
   "metadata": {},
   "source": [
    "# Step 3 - Split training, testing, and validation sets"
   ]
  },
  {
   "cell_type": "code",
   "execution_count": 6,
   "metadata": {},
   "outputs": [],
   "source": [
    "# split into initial train & test\n",
    "x_train, x_test, y_train, y_test = train_test_split(features, label, train_size = 0.8, \n",
    "                                                    test_size = 0.2, random_state=1)"
   ]
  },
  {
   "cell_type": "code",
   "execution_count": 7,
   "metadata": {},
   "outputs": [],
   "source": [
    "# split further into train & validate (test withheld until very end)\n",
    "x_train, x_val, y_train, y_val = train_test_split(x_train, y_train, train_size = 0.8, \n",
    "                                                    test_size = 0.2, random_state=1)"
   ]
  },
  {
   "cell_type": "markdown",
   "metadata": {},
   "source": [
    "# Step 4 - Create and train a model for binary classification\n",
    "In this next step, I will create and train a Random Forest classifier. I believe that several different types of classification models could work on this dataset, but I personally want to practice Random Forests. I also particularly enjoy Random Forests because I find them easy to conceptualize, compared to other classifiers."
   ]
  },
  {
   "cell_type": "code",
   "execution_count": 8,
   "metadata": {},
   "outputs": [],
   "source": [
    "# create the model\n",
    "classifier = RandomForestClassifier(n_estimators = 50, random_state = 1)"
   ]
  },
  {
   "cell_type": "code",
   "execution_count": 9,
   "metadata": {},
   "outputs": [
    {
     "data": {
      "text/plain": [
       "RandomForestClassifier(bootstrap=True, class_weight=None, criterion='gini',\n",
       "                       max_depth=None, max_features='auto', max_leaf_nodes=None,\n",
       "                       min_impurity_decrease=0.0, min_impurity_split=None,\n",
       "                       min_samples_leaf=1, min_samples_split=2,\n",
       "                       min_weight_fraction_leaf=0.0, n_estimators=50,\n",
       "                       n_jobs=None, oob_score=False, random_state=1, verbose=0,\n",
       "                       warm_start=False)"
      ]
     },
     "execution_count": 9,
     "metadata": {},
     "output_type": "execute_result"
    }
   ],
   "source": [
    "# train the model\n",
    "classifier.fit(x_train, y_train)"
   ]
  },
  {
   "cell_type": "markdown",
   "metadata": {},
   "source": [
    "# Step 5 - Predict validation labels & measure model accuracy"
   ]
  },
  {
   "cell_type": "code",
   "execution_count": 10,
   "metadata": {},
   "outputs": [],
   "source": [
    "y_predict_val = classifier.predict(x_val)"
   ]
  },
  {
   "cell_type": "code",
   "execution_count": 11,
   "metadata": {},
   "outputs": [
    {
     "name": "stdout",
     "output_type": "stream",
     "text": [
      "Accuracy on Validation Set: 0.8367346938775511\n",
      "Precision on Validation Set: 0.9090909090909091\n",
      "Recall on Validation Set: 0.8571428571428571\n",
      "F1 Score on Validation Set: 0.8823529411764706\n"
     ]
    }
   ],
   "source": [
    "val_accuracy = accuracy_score(y_val, y_predict_val)\n",
    "val_precision = precision_score(y_val, y_predict_val)\n",
    "val_recall = recall_score(y_val, y_predict_val)\n",
    "val_f1 = f1_score(y_val, y_predict_val)\n",
    "\n",
    "print(f\"Accuracy on Validation Set: {val_accuracy}\")\n",
    "print(f\"Precision on Validation Set: {val_precision}\")\n",
    "print(f\"Recall on Validation Set: {val_recall}\")\n",
    "print(f\"F1 Score on Validation Set: {val_f1}\")"
   ]
  },
  {
   "cell_type": "code",
   "execution_count": 12,
   "metadata": {},
   "outputs": [
    {
     "data": {
      "image/png": "[encoded data removed]",
      "text/plain": [
       "<Figure size 504x360 with 1 Axes>"
      ]
     },
     "metadata": {
      "needs_background": "light"
     },
     "output_type": "display_data"
    }
   ],
   "source": [
    "fig = plt.figure(figsize=(7,5))\n",
    "ax = fig.add_axes([0,0,1,1])\n",
    "measurements = ['Accuracy', 'Precision', 'Recall', 'F1 Score']\n",
    "stats = [val_accuracy, val_precision, val_recall, val_f1]\n",
    "ax.bar(measurements,stats)\n",
    "plt.title('Model Performance on Validation Set')\n",
    "plt.show()"
   ]
  },
  {
   "cell_type": "markdown",
   "metadata": {},
   "source": [
    "# Step 6 - Adjust hyperparameters\n",
    "\n",
    "This part is difficult to show in code, so I am going to write about it instead. Initially after building my model, these were my scores on the validation set:\n",
    "\n",
    "* Accuracy: 0.8367346938775511\n",
    "* Precision: 0.9090909090909091\n",
    "* Recall: 0.8571428571428571\n",
    "* F1 Score: 0.8823529411764706\n",
    "\n",
    "I decided to change a few hyperparameters in hopes of achieving a higher performance in my model. Here are the adjustments I tried: \n",
    "\n",
    "1. **n_estimators**: This is the number of \"trees\" in my random forest. I started with 100, so I wanted to see if adjusting down would make a difference. I tried my model with n_estimators set to 50, and my model performed exactly the same. So I tried with even fewer, 20 this time. My model performance did go down (79% accuracy), so I tried higher numbers. With 1000 estimators, my model accuracy was the same as with 50 or 100 estimators, so I eventually settled on 50. This seemed like the smallest number of trees needed to get the best performance.\n",
    "2. **One hot encoding 'CP' (Chest pain type)**: This is an adjustment I had to make to my previous notebook, heart_disease_eda (https://github.com/emilydwilliams/heart_disease/blob/master/heart_disease_eda.ipynb). This actually *decreased* my performance on all measures, so I changed the dataframe back to its previous (**not** one-hot encoded) state.\n",
    "3. **Including less informative features**: Finally, I decided to try using *all* of the columns (besides 'target') from the dataset as features in the model. Interestingly, my accuracy stayed exactly the same *but* my precision increased, recall decreased, and f1 score decreased. I decided to go back to my original subset of features.\n",
    "\n",
    "After adjusting my hyperparameters, I wasn't able to improve the performance of my model. I was, however, able to make my model worse. I feel reasonably confident now that the hyperparameters I have set are the optimal hyperparameters for my model."
   ]
  },
  {
   "cell_type": "markdown",
   "metadata": {},
   "source": [
    "# Step 7 - FINALLY assess performance on test set\n",
    "In this final step, I will assess the model's performance on the previously withheld test set. This will give the most accurate idea of how the model will perform on truly never-before-seen data, since the model was *not* trained on this set and hyperparameters were *not* adjusted for this set of examples."
   ]
  },
  {
   "cell_type": "code",
   "execution_count": 13,
   "metadata": {},
   "outputs": [],
   "source": [
    "y_predict_test = classifier.predict(x_test)"
   ]
  },
  {
   "cell_type": "code",
   "execution_count": 14,
   "metadata": {},
   "outputs": [
    {
     "name": "stdout",
     "output_type": "stream",
     "text": [
      "Accuracy on Test Set: 0.8032786885245902\n",
      "Precision on Test Set: 0.7777777777777778\n",
      "Recall on Test Set: 0.875\n",
      "F1 Score on Test Set: 0.823529411764706\n"
     ]
    }
   ],
   "source": [
    "test_accuracy = accuracy_score(y_test, y_predict_test)\n",
    "test_precision = precision_score(y_test, y_predict_test)\n",
    "test_recall = recall_score(y_test, y_predict_test)\n",
    "test_f1 = f1_score(y_test, y_predict_test)\n",
    "\n",
    "print(f\"Accuracy on Test Set: {test_accuracy}\")\n",
    "print(f\"Precision on Test Set: {test_precision}\")\n",
    "print(f\"Recall on Test Set: {test_recall}\")\n",
    "print(f\"F1 Score on Test Set: {test_f1}\")"
   ]
  },
  {
   "cell_type": "code",
   "execution_count": 15,
   "metadata": {},
   "outputs": [
    {
     "data": {
      "image/png": "[encoded data removed]",
      "text/plain": [
       "<Figure size 504x360 with 1 Axes>"
      ]
     },
     "metadata": {
      "needs_background": "light"
     },
     "output_type": "display_data"
    }
   ],
   "source": [
    "test_fig = plt.figure(figsize=(7,5))\n",
    "test_ax = test_fig.add_axes([0,0,1,1])\n",
    "test_measurements = ['Accuracy', 'Precision', 'Recall', 'F1 Score']\n",
    "test_stats = [test_accuracy, test_precision, test_recall, test_f1]\n",
    "test_ax.bar(test_measurements,test_stats)\n",
    "plt.title('Model Performance on Test Set')\n",
    "plt.show()"
   ]
  },
  {
   "cell_type": "markdown",
   "metadata": {},
   "source": [
    "# In conclusion...\n",
    "\n",
    "My model performed better on my validation set in 3 out of 4 metrics, which is not unusual. My test set still performed fairly well (80% accuracy). A machine learning model that can predict with 80% accuracy whether or not a patient has heart disease given this set of data could potential be useful in the real world."
   ]
  }
 ],
 "metadata": {
  "kernelspec": {
   "display_name": "Python 3",
   "language": "python",
   "name": "python3"
  },
  "language_info": {
   "codemirror_mode": {
    "name": "ipython",
    "version": 3
   },
   "file_extension": ".py",
   "mimetype": "text/x-python",
   "name": "python",
   "nbconvert_exporter": "python",
   "pygments_lexer": "ipython3",
   "version": "3.7.4"
  }
 },
 "nbformat": 4,
 "nbformat_minor": 4
}
